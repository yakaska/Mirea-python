{
 "cells": [
  {
   "cell_type": "markdown",
   "metadata": {
    "id": "68a65167"
   },
   "source": [
    "### Практическое занятие №5.\n",
    "\n",
    "#### Опять эти матрицы... или тренируемся и набираем баллы"
   ]
  },
  {
   "cell_type": "markdown",
   "metadata": {
    "id": "2xLsJwWNB_7k"
   },
   "source": [
    "**При решении следующих задач предлагается выполнять автоматическую проверку синтаксиса кода в соответствии со стандартом PEP8. Такая практика поможет Вам научиться писать код на языке Python сразу без синтаксических ошибок!**"
   ]
  },
  {
   "cell_type": "code",
   "execution_count": null,
   "metadata": {
    "id": "7owS6v_4CA79"
   },
   "outputs": [],
   "source": [
    "# установка библиотеки для проверки кода на соответствие PEP8\n",
    "pip install flake8 pycodestyle_magic"
   ]
  },
  {
   "cell_type": "code",
   "execution_count": null,
   "metadata": {
    "id": "9a1dce2f"
   },
   "outputs": [],
   "source": [
    "# теперь код будет проверяться на соответствие PEP8\n",
    "%load_ext pycodestyle_magic\n",
    "%pycodestyle_on"
   ]
  },
  {
   "cell_type": "markdown",
   "metadata": {
    "id": "wIw9tHAPAdFY"
   },
   "source": [
    "$1$. Реализовать функцию, вычисляющую [определитель](https://ru.wikipedia.org/wiki/%D0%9E%D0%BF%D1%80%D0%B5%D0%B4%D0%B5%D0%BB%D0%B8%D1%82%D0%B5%D0%BB%D1%8C) матрицы 2x2:\n",
    "\n",
    "$\\mathrm{smalldet} (\\mathbf{A}) = a_{0, 0} a_{1, 1} - a_{0, 1} a_{1, 0}$.\n",
    "\n",
    "Вычислить определитель матрицы:\n",
    "\n",
    "$\n",
    "\\mathbf{A} = \\left(\n",
    "\\begin{matrix}\n",
    "    4 & 3 \\\\\n",
    "    1 & 1\n",
    "\\end{matrix}\n",
    "\\right)\n",
    "$.\n",
    "\n",
    "Внешний тест:\n",
    "\n",
    "*   $smalldet(A)=1$"
   ]
  },
  {
   "cell_type": "markdown",
   "metadata": {
    "id": "ZJPosgy4Ba4M"
   },
   "source": [
    "$2$. Вычисление [*дополнительного минора*](https://lms2.sseu.ru/courses/eresmat/course1/razd8z1/par8_14z1.htm?ysclid=lf41z6vnqt411141564) для элемента с индексами $i$ и $j$ осущеставляется исключением из матрицы $i$-й строки и $j$-го столбца и нахождением определителя полученной матрицы. Реализовать функцию $\\mathrm{submatrix}(\\mathbf{A}, i, j)$, исключающую из матрицы $i$-ю строку и $j$-й столбец, и возвращающую полученную матрицу. Вычислить результат для:\n",
    "\n",
    "$\n",
    "\\mathbf{A} = \\left(\n",
    "\\begin{matrix}\n",
    "    0 & 2 & 1 \\\\\n",
    "    1 & 4 & 3 \\\\\n",
    "    2 & 1 & 1\n",
    "\\end{matrix}\n",
    "\\right)\n",
    "$.\n",
    "\n",
    "Внешние тесты:\n",
    "\n",
    "*   $submatrix(A, 0, 0)=[[4, 3], [1, 1]]$\n",
    "*   $submatrix(A, 1, 1)=[[0, 1], [2, 1]]$\n",
    "*   $submatrix(A, 2, 1)=[[0, 1], [1, 3]]$\n",
    "\n",
    "**Подсказка:** в решении рекомендуется использовать оператор [continue](https://timeweb.cloud/tutorials/python/operatory-break-continue-i-pass-v-ciklah-python-3?ysclid=lf4659oc86181993592)."
   ]
  },
  {
   "cell_type": "markdown",
   "metadata": {
    "id": "V63EzsaVduEd"
   },
   "source": [
    "$3$. Используя функции `smalldet(A)` и `submatrix(A, i, j)`, реализовать рекуррентную функцию, вычисляющую определитель матрицы размера $n \\times n$. Вычислить определитель для матрицы $4 \\times 4$ разложением при $i=0$:\n",
    "\n",
    "$\n",
    "{\\displaystyle \\mathrm{det}(\\mathbf{A})=\\sum _{j=0}^{n-1}(-1)^{i+j}a_{ij} \\mathrm{det}\\left( \\mathrm{submatrix}(\\mathbf{A}, i, j) \\right)},\n",
    "$\n",
    "\n",
    "$\n",
    "\\mathbf{A} = \\left(\n",
    "\\begin{matrix}\n",
    "    0 & 2 & 1 & 4 \\\\\n",
    "    1 & 0 & 3 & 2 \\\\\n",
    "    0 & 1 & 4 & 0 \\\\\n",
    "    1 & 2 & 1 & 1\n",
    "\\end{matrix}\n",
    "\\right)\n",
    "$.\n",
    "\n",
    "Внешний тест:\n",
    "\n",
    "*   $det(A, i=0)=47$\n"
   ]
  },
  {
   "cell_type": "markdown",
   "metadata": {
    "id": "ngpIpG60ez_Z"
   },
   "source": [
    "$4$. Реализовать функцию, вычисляющую дополнительный минор элемента с индексами $i$ и $j$ по формуле:\n",
    "\n",
    "$\n",
    "\\mathrm{minor}(\\mathbf{A}, i, j) = det(submatrix(\\mathbf{A}, i, j))\n",
    "$, вычислить дополнительный минор элемента $a_{0,1}$ матрицы $\\mathbf{A}$ из задачи 3.\n",
    "\n",
    "Внешний тест:\n",
    "\n",
    "*   $minor(A,0,1)=-4$"
   ]
  },
  {
   "cell_type": "markdown",
   "metadata": {
    "id": "5YrtCgdKfI6i"
   },
   "source": [
    "$5$. Реализовать функцию, вычисляющую [алгебраическое дополнение](https://ru.wikipedia.org/wiki/%D0%90%D0%BB%D0%B3%D0%B5%D0%B1%D1%80%D0%B0%D0%B8%D1%87%D0%B5%D1%81%D0%BA%D0%BE%D0%B5_%D0%B4%D0%BE%D0%BF%D0%BE%D0%BB%D0%BD%D0%B5%D0%BD%D0%B8%D0%B5) элемента с индексами $i$ и $j$:\n",
    "\n",
    "$\n",
    "\\mathrm{alg}(\\mathbf{A}, i, j) = (-1)^{i+j}minor(\\mathbf{A}, i, j)\n",
    "$, вычислить алгебраическое дополнение элемента $a_{1,1}$ матрицы $\\mathbf{A}$ из задачи 3.\n",
    "\n",
    "Внешний тест:\n",
    "\n",
    "*   $alg(A)=-16$"
   ]
  },
  {
   "cell_type": "markdown",
   "metadata": {
    "id": "Y_DEEVxX7ft1"
   },
   "source": [
    "$6$. Реализовать функцию $\\mathrm{algmatrix}(\\mathbf{A})$, вычисляющую матрицу алгебраических дополнений для заданной матрицы. В матрице $\\mathbf{A}_m$ алгебраических дополнений каждый элемент с индексами $i$ и $j$ заменяется результатом применения функции $\\mathrm{alg}$ к матрице $\\mathbf{A}$. Вычислить обратную матрицу к $\\mathbf{A}$ из задачи 3.\n",
    "\n",
    "Внешний тест:\n",
    "\n",
    "*   $algmatrix(A)=[[-17,4,-1,10], [21, -16, 4, 7], [-18, 7, 10, -6], [26, 16, -4, -7]]$"
   ]
  },
  {
   "cell_type": "markdown",
   "metadata": {
    "id": "XoWlHsgi9aL1"
   },
   "source": [
    "$7$. Реализовать функцию, вычисляющую [обратную матрицу](https://ru.wikipedia.org/wiki/%D0%9E%D0%B1%D1%80%D0%B0%D1%82%D0%BD%D0%B0%D1%8F_%D0%BC%D0%B0%D1%82%D1%80%D0%B8%D1%86%D0%B0) для матрицы $\\mathbf{A}$ из задачи 3 по следующей формуле:\n",
    "\n",
    "$\n",
    "\\mathrm{inv}(\\mathbf{A}) = \\mathbf{A}^{-1} = \\dfrac{\\mathrm{algmatrix}(\\mathbf{A})^T}{\\mathrm{det}(\\mathbf{A})}\n",
    "$."
   ]
  },
  {
   "cell_type": "markdown",
   "metadata": {
    "id": "qqkJv7fwBL41"
   },
   "source": [
    "$8$. [Псевдообращение Мура-Пенроуза](https://ru.wikipedia.org/wiki/%D0%9F%D1%81%D0%B5%D0%B2%D0%B4%D0%BE%D0%BE%D0%B1%D1%80%D0%B0%D1%82%D0%BD%D0%B0%D1%8F_%D0%BC%D0%B0%D1%82%D1%80%D0%B8%D1%86%D0%B0) применяется в [машинах экстремального обучения](https://link.springer.com/article/10.1007/s11042-021-11007-7) - современных искусственных нейронных сетях, которые не требуется обучать с помощью классических градиентных методов, что существенно ускоряет процесс обучения. Предлагается реализовать обращение Мура-Пенроуза в виде функции `moore_penrose` для матрицы $\\mathbf{A}$ из задачи 3 по формуле:\n",
    "\n",
    "$\n",
    "\\mathbf{H}^† = (\\mathbf{H}^T \\mathbf{H})^{-1}\\mathbf{H}^T\n",
    "$."
   ]
  },
  {
   "cell_type": "markdown",
   "metadata": {
    "id": "ZzLxAVVZQAEt"
   },
   "source": [
    "**Выполнение данных заданий в течение практического занятия №5 даёт возможность получить следующие баллы:**\n",
    "\n",
    "*   ***Любые 2 задачи: 0,5 балла***\n",
    "*   ***Любые 4 задачи: 1 балл***\n",
    "*   ***Любые 6 задач: 2 балла***\n",
    "*   ***Все 8 задач: 3 балла***"
   ]
  }
 ],
 "metadata": {
  "colab": {
   "provenance": [],
   "toc_visible": true
  },
  "kernelspec": {
   "display_name": "Python 3",
   "language": "python",
   "name": "python3"
  },
  "language_info": {
   "codemirror_mode": {
    "name": "ipython",
    "version": 3
   },
   "file_extension": ".py",
   "mimetype": "text/x-python",
   "name": "python",
   "nbconvert_exporter": "python",
   "pygments_lexer": "ipython3",
   "version": "3.6.2"
  }
 },
 "nbformat": 4,
 "nbformat_minor": 5
}
