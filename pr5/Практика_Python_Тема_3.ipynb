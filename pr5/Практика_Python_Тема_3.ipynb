{
  "cells": [
    {
      "cell_type": "markdown",
      "metadata": {
        "id": "w_PO8shTwJEj"
      },
      "source": [
        "# Практические занятия №6-7"
      ]
    },
    {
      "cell_type": "markdown",
      "metadata": {
        "id": "JrzZi1sEwJEm"
      },
      "source": [
        "## 1. Модули"
      ]
    },
    {
      "cell_type": "markdown",
      "metadata": {
        "id": "RkUF9oz_wJEn"
      },
      "source": [
        "**1.1.** (0.1 балла)\n",
        "\n",
        "Напишите код, состоящий из двух модулей, для получения следующего сообщения об ошибке:\n",
        "\n",
        "```\n",
        "AttributeError: partially initialized module '...' has no attribute '...' (most likely due to a circular import)\n",
        "```"
      ]
    },
    {
      "cell_type": "markdown",
      "metadata": {
        "id": "3kl-PG7qwJEp"
      },
      "source": [
        "**1.2.** (0.1 балла)\n",
        "\n",
        "Как вы думаете, модуль загружается один раз или же загружается каждый раз при очередном импорте? Докажите правильность вашей гипотезы примером кода."
      ]
    },
    {
      "cell_type": "markdown",
      "metadata": {
        "id": "86EtjXN6wJEq"
      },
      "source": [
        "**1.3.** (0.2 балла)\n",
        "\n",
        "Предположим, мы хотим изменить значение глобальной переменной модуля, но так, чтобы новое значение отразилось на всех пользователях этого модуля. К чему приведет следующий код? Что можно предложить взамен?\n",
        "\n",
        "```Python\n",
        "from some_module import GLOBAL_VAR\n",
        "GLOBAL_VAR = 42\n",
        "```"
      ]
    },
    {
      "cell_type": "markdown",
      "source": [
        "**1.4.** (0.3 балла)\n",
        "\n",
        "Промежуточное задание. Решить задачу №10 из [ЦАП](https://kispython.ru/) в соответствии со своим вариантом."
      ],
      "metadata": {
        "id": "ngEFlTgvrhSi"
      }
    },
    {
      "cell_type": "markdown",
      "metadata": {
        "id": "FmrBCXD1wJEs"
      },
      "source": [
        "**1.5.** (0.3 балла)\n",
        "\n",
        "На основе задачи 1.4. создайте учебный пакет (см. [лекцию №3](https://github.com/true-grue/kispython/blob/main/lect3.ipynb)), состоящий из двух модулей mealy_main.py, mealy_test.py, а также [конфигурационного файла](https://www.awesomeandrew.ru/2021/03/03/%D0%BE%D1%82-%D0%BD%D0%BE%D0%B2%D0%B8%D1%87%D0%BA%D0%B0-%D0%B2-%D1%8D%D0%BA%D1%81%D0%BF%D0%B5%D1%80%D1%82%D1%8B-%D0%BF%D0%B8%D1%88%D0%B5%D0%BC-%D1%84%D0%B0%D0%B9%D0%BB-%D0%BA%D0%BE%D0%BD%D1%84%D0%B8/?ysclid=lffa1gl7si102718322) с любым типом расширения (например, `.ini` или `.json`)."
      ]
    },
    {
      "cell_type": "markdown",
      "source": [
        "**1.6.** (0.4 балла) Получите дистрибутив, готовый для установки с помощью pip (см. [ссылку](https://proglib.io/p/kak-opublikovat-svoyu-python-biblioteku-na-pypi-2020-01-28?ysclid=lffm1w28cq136077361)). Проверьте результат установки в виртуальном окружении."
      ],
      "metadata": {
        "id": "LQIk3eB4sJjC"
      }
    },
    {
      "cell_type": "markdown",
      "metadata": {
        "id": "gayTyAZ1wJEs"
      },
      "source": [
        "**Все дальнейшие задачи делаются в Jupyter-блокноте с использованием библиотеки [Matplotlib](https://matplotlib.org/stable/users/index.html). Также при желании можно воспользоваться библиотекой [Seaborn](https://seaborn.pydata.org/).**"
      ]
    },
    {
      "cell_type": "markdown",
      "source": [
        "## 2. Введение в построение графиков"
      ],
      "metadata": {
        "id": "5z6AMi7nGzBc"
      }
    },
    {
      "cell_type": "markdown",
      "metadata": {
        "id": "qcJcRNH1wJE7"
      },
      "source": [
        "Проанализируйте [базу данных](https://github.com/Newbilius/Old-Games_DOS_Game_Gauntlet/blob/master/GAMES.csv) старых компьютерных игр.\n",
        "\n",
        "С помощью [графиков](https://pythonru.com/biblioteki/tipy-grafikov-v-matplotlib-plt3?ysclid=lffg70iq2w802225011) (могут понадобиться линейный график, гистограмма или столбчатая диаграмма) ответьте на следующие вопросы:\n",
        "\n",
        "**2.1.** (0.3 балла)\n",
        "\n",
        "Какие годы были самыми популярными с точки зрения выхода игр?\n",
        "\n",
        "**2.2.** (0.3 балла)\n",
        "\n",
        "Какие жанры были популярны в различные периоды времени?"
      ]
    },
    {
      "cell_type": "markdown",
      "metadata": {
        "id": "HqdGTAK8wJEu"
      },
      "source": [
        "## 3. Процедурная графика"
      ]
    },
    {
      "cell_type": "markdown",
      "metadata": {
        "id": "ji0UMyRrwJEv"
      },
      "source": [
        "**3.1.** (0.2 балла)\n",
        "\n",
        "Создайте генератор случайных спрайтов 5x5 пикселей. Используйте свойство симметрии. Вывод реализуйте с помощью функции imshow.\n",
        "\n",
        "Пример работы генератора показан ниже.\n",
        "\n",
        "![](https://github.com/true-grue/kispython/blob/main/data/sprite1.png?raw=1)"
      ]
    },
    {
      "cell_type": "markdown",
      "metadata": {
        "id": "SAsc1LpXwJEx"
      },
      "source": [
        "**3.2.** (0.3 балла)\n",
        "\n",
        "Создайте генератор карт спрайтов. Пример работы этого генератора показан ниже.\n",
        "\n",
        "\n",
        "![](https://github.com/true-grue/kispython/blob/main/data/sprite2.png?raw=1)"
      ]
    },
    {
      "cell_type": "markdown",
      "metadata": {
        "id": "Akbvhtp5wJEx"
      },
      "source": [
        "**3.3.** (0.5 балла)\n",
        "\n",
        "Реализуйте генератор случайных спрайтов NxM. Используйте различные свойства симметрии. Добавьте цвета.\n",
        "\n",
        "Пример работы этого генератора показан ниже.\n",
        "\n",
        "\n",
        "![](https://github.com/true-grue/kispython/blob/main/data/sprite3.png?raw=1)\n",
        "\n",
        "Использовалась палитра из PICO-8:\n",
        "\n",
        "```\n",
        "1D2B53\n",
        "7E2553\n",
        "008751\n",
        "AB5236\n",
        "5F574F\n",
        "C2C3C7\n",
        "FFF1E8\n",
        "FF004D\n",
        "FFA300\n",
        "FFEC27\n",
        "00E436\n",
        "29ADFF\n",
        "83769C\n",
        "FF77A8\n",
        "FFCCAA\n",
        "```"
      ]
    },
    {
      "cell_type": "markdown",
      "metadata": {
        "id": "vUWxHMDYwJEy"
      },
      "source": [
        "**3.4.** (0.5 балла)\n",
        "\n",
        "Слышали ли вы об играх с процедурно сгенерированными вселенными? Оказывается, у современной Elite Dangerous есть далекий предок – игра Elite 1984 года. В Elite была впечатляющая по тем временам 3d графика и целых 8 галактик для исследования, каждая из которых содержала 256 солнечных систем. Удивительно, но все это работало на 8-битном компьютере, а код игры составлял микроскопические 32 Кбайт.\n",
        "\n",
        "Изобразите легендарную первую галактику из игры Elite. Для этого потребуется портировать алгоритм процедурной генерации, приведенный далее на C/C++. Обратите внимание, [этот код](http://www.iancgbell.clara.net/elite/text/) написан в низкоуровневом стиле, поскольку был получен из оригинальной игры, которая, в свою очередь, была написана на языке ассемблера. Вам необходимо при портировании следовать хорошему стилю написания программ на Питоне.\n",
        "\n",
        "Каждая галактика в игре генерируется на основе всего трех 16-битных чисел w0, w1 и w2. Для первой галактики это 0x5A4A, 0x0248 и 0xB753. Имена звезд генерируются с помощью массива слогов.\n",
        "\n",
        "```C\n",
        "char pairs[] = \"..LEXEGEZACEBISO\"\n",
        "\"USESARMAINDIREA.\"\n",
        "\"ERATENBERALAVETI\"\n",
        "\"EDORQUANTEISRION\"; /* Dots should be nullprint characters */\n",
        "\n",
        "typedef struct\n",
        "{\n",
        " uint x;\n",
        " uint y; /* One byte unsigned */\n",
        " uint economy; /* These two are actually only 0-7 */\n",
        " uint govtype;\n",
        " uint techlev; /* 0-16 i think */\n",
        " uint population; /* One byte */\n",
        " uint productivity; /* Two byte */\n",
        " uint radius; /* Two byte (not used by game at all) */\n",
        " fastseedtype goatsoupseed;\n",
        " char name[12];\n",
        "} plansys;\n",
        "\n",
        "void tweakseed(seedtype *s)\n",
        "{\n",
        " uint16 temp;\n",
        " temp = ((*s).w0) + ((*s).w1) + ((*s).w2); /* 2 byte aritmetic */\n",
        " (*s).w0 = (*s).w1;\n",
        " (*s).w1 = (*s).w2;\n",
        " (*s).w2 = temp;\n",
        "}\n",
        "\n",
        "/**-Generate system info from seed **/\n",
        "\n",
        "plansys makesystem(seedtype *s)\n",
        "{\n",
        " plansys thissys;\n",
        " uint pair1, pair2, pair3, pair4;\n",
        " uint16 longnameflag = ((*s).w0) & 64;\n",
        "\n",
        " thissys.x = (((*s).w1) >> 8);\n",
        " thissys.y = (((*s).w0) >> 8);\n",
        "\n",
        " thissys.govtype = ((((*s).w1) >> 3) & 7); /* bits 3,4 &5 of w1 */\n",
        "\n",
        " thissys.economy = ((((*s).w0) >> 8) & 7); /* bits 8,9 &A of w0 */\n",
        " if (thissys.govtype <= 1)\n",
        " {\n",
        " thissys.economy = ((thissys.economy) | 2);\n",
        " }\n",
        "\n",
        " thissys.techlev = ((((*s).w1) >> 8) & 3) + ((thissys.economy) ^ 7);\n",
        " thissys.techlev += ((thissys.govtype) >> 1);\n",
        " if (((thissys.govtype) & 1) == 1) thissys.techlev += 1;\n",
        " /* C simulation of 6502's LSR then ADC */\n",
        "\n",
        " thissys.population = 4 * (thissys.techlev) + (thissys.economy);\n",
        " thissys.population += (thissys.govtype) + 1;\n",
        "\n",
        " thissys.productivity = (((thissys.economy) ^ 7) + 3)*((thissys.govtype) + 4);\n",
        " thissys.productivity *= (thissys.population) * 8;\n",
        "\n",
        " thissys.radius = 256 * (((((*s).w2) >> 8) & 15) + 11) + thissys.x;\n",
        "\n",
        " thissys.goatsoupseed.a = (*s).w1 & 0xFF;;\n",
        " thissys.goatsoupseed.b = (*s).w1 >> 8;\n",
        " thissys.goatsoupseed.c = (*s).w2 & 0xFF;\n",
        " thissys.goatsoupseed.d = (*s).w2 >> 8;\n",
        "\n",
        " pair1 = 2 * ((((*s).w2) >> 8) & 31); tweakseed(s);\n",
        " pair2 = 2 * ((((*s).w2) >> 8) & 31); tweakseed(s);\n",
        " pair3 = 2 * ((((*s).w2) >> 8) & 31); tweakseed(s);\n",
        " pair4 = 2 * ((((*s).w2) >> 8) & 31); tweakseed(s);\n",
        " /* Always four iterations of random number */\n",
        "\n",
        " (thissys.name)[0] = pairs[pair1];\n",
        " (thissys.name)[1] = pairs[pair1 + 1];\n",
        " (thissys.name)[2] = pairs[pair2];\n",
        " (thissys.name)[3] = pairs[pair2 + 1];\n",
        " (thissys.name)[4] = pairs[pair3];\n",
        " (thissys.name)[5] = pairs[pair3 + 1];\n",
        "\n",
        " if (longnameflag) /* bit 6 of ORIGINAL w0 flags a four-pair name */\n",
        " {\n",
        " (thissys.name)[6] = pairs[pair4];\n",
        " (thissys.name)[7] = pairs[pair4 + 1];\n",
        " (thissys.name)[8] = 0;\n",
        " }\n",
        " else (thissys.name)[6] = 0;\n",
        " stripout(thissys.name, '.');\n",
        "\n",
        " return thissys;\n",
        "}\n",
        "```\n",
        "\n",
        "Описание первой галактики можно найти [здесь](https://wiki.alioth.net/index.php/Oolite_planet_list/Galaxy_1).\n",
        "\n",
        "Ниже показан пример визуализации первой галактики.\n",
        "\n",
        "![](https://github.com/true-grue/kispython/blob/main/data/galaxy.png?raw=1)"
      ]
    },
    {
      "cell_type": "markdown",
      "metadata": {
        "id": "CiTdCAMVwJE5"
      },
      "source": [
        "## 4. Инфографика"
      ]
    },
    {
      "cell_type": "markdown",
      "metadata": {
        "id": "0MyRJLl5wJE6"
      },
      "source": [
        "Проанализируйте данные, полученные от ЦАП. Для этого можно воспользоваться приведенным ниже кодом.\n",
        "\n",
        "```Python\n",
        "import csv\n",
        "import datetime\n",
        "\n",
        "\n",
        "def parse_time(text):\n",
        "    return datetime.datetime.strptime(text, '%Y-%m-%d %H:%M:%S.%f')\n",
        "\n",
        "\n",
        "def load_csv(filename):\n",
        "    with open(filename, encoding='utf8') as f:\n",
        "        return list(csv.reader(f, delimiter=','))\n",
        "\n",
        "\n",
        "# id, task, variant, group, time\n",
        "mesages = load_csv('messages.csv')\n",
        "\n",
        "# id, message_id, time, status\n",
        "checks = load_csv('checks.csv')\n",
        "\n",
        "# task, variant, group, time, status, achievements\n",
        "statuses = load_csv('statuses.csv')\n",
        "\n",
        "# О статусах см. https://github.com/kispython-ru/dta/blob/main/webapp/models.py#L44-L50\n",
        "```"
      ]
    },
    {
      "cell_type": "markdown",
      "metadata": {
        "id": "uPTJmrUjwJE6"
      },
      "source": [
        "С помощью графиков ответьте на следующие вопросы.\n",
        "\n",
        "**4.1.** (0.2 балла)\n",
        "\n",
        "Как по дням недели распределяется активность студентов?\n",
        "\n",
        "**4.2.** (0.2 балла)\n",
        "\n",
        "Как по времени суток распределяется активность студентов?\n",
        "\n",
        "**4.3.** (0.2 балла)\n",
        "\n",
        "Сколько сообщений в среднем студенты отправляют по каждой задаче?\n",
        "\n",
        "**4.4.** (0.3 балла)\n",
        "\n",
        "Как за период с начала семестра менялась активность студентов по каждой из задач?\n",
        "\n",
        "**4.5.** (0.2 балла)\n",
        "\n",
        "В каких группах было отправлено больше всего сообщений?\n",
        "\n",
        "**4.6.** (0.2 балла)\n",
        "\n",
        "В каких группах было получено больше всего правильных решений? \n",
        "\n",
        "**4.7.** (0.2 балла)\n",
        "\n",
        "Какие задачи оказались самыми легкими, самыми сложными?\n",
        "\n",
        "**4.8.** (0.2 балла)\n",
        "\n",
        "Студенты каких групп заработали больше всего достижений? \n",
        "\n",
        "**4.9.** (0.2 балла)\n",
        "\n",
        "Кто находится на первых 10 местах в рейтинге студентов?\n",
        "\n",
        "**4.10.** (0.2 балла)\n",
        "\n",
        "В каких группах студенты чаще решают задачи различными способами?\n"
      ]
    },
    {
      "cell_type": "markdown",
      "source": [
        "***Распределение сложных задач:***\n",
        "\n",
        "**Задача 2:** 2.1. и 2.2. - итого 0.6 балла.\n",
        "\n",
        "**Задача 3:** с 3.1. по 3.4. - итого 1.5 балла.\n",
        "\n",
        "**Задача 4:** с 4.1. по 4.10. - итого 2.1 балла."
      ],
      "metadata": {
        "id": "aAIU2UfodBoN"
      }
    }
  ],
  "metadata": {
    "kernelspec": {
      "display_name": "Python 3",
      "language": "python",
      "name": "python3"
    },
    "language_info": {
      "codemirror_mode": {
        "name": "ipython",
        "version": 3
      },
      "file_extension": ".py",
      "mimetype": "text/x-python",
      "name": "python",
      "nbconvert_exporter": "python",
      "pygments_lexer": "ipython3",
      "version": "3.11.1"
    },
    "orig_nbformat": 4,
    "colab": {
      "provenance": []
    }
  },
  "nbformat": 4,
  "nbformat_minor": 0
}