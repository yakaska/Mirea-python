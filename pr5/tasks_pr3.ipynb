{
 "cells": [
  {
   "cell_type": "markdown",
   "source": [
    "Проанализируйте базу данных старых компьютерных игр. https://github.com/Newbilius/Old-Games_DOS_Game_Gauntlet/blob/master/GAMES.csv\n",
    "С помощью графиков (могут понадобиться линейный график, гистограмма или столбчатая диаграмма\n",
    "ответьте на следующие вопросы:"
   ],
   "metadata": {
    "collapsed": false
   }
  },
  {
   "cell_type": "markdown",
   "source": [
    "**2.1.** (0.3 балла)\n",
    "\n",
    "Какие годы были самыми популярными с точки зрения выхода игр?"
   ],
   "metadata": {
    "collapsed": false
   }
  },
  {
   "cell_type": "code",
   "execution_count": null,
   "outputs": [],
   "source": [
    "import matplotlib.pyplot as plt\n",
    "import pandas as pd\n",
    "\n",
    "data = pd.read_csv(r\"C:\\Users\\valen\\PycharmProjects\\Mirea-python\\pr5\\game_database\\games_database.csv\", sep=\";\")\n",
    "\n",
    "years = data['date_of_release'].unique()[1::]\n",
    "games_per_year = {}\n",
    "for year in years:\n",
    "    games_per_year[year] = len(data[data['date_of_release'] == year])\n",
    "print(games_per_year)\n",
    "\n",
    "x = games_per_year.keys()\n",
    "y = games_per_year.values()\n",
    "\n",
    "fig = plt.figure(figsize=(15, 4))\n",
    "ax = fig.add_subplot(111)\n",
    "ax.set_title(\"Топ годов по выходу игр!\")\n",
    "ax.set_xlabel('Год')\n",
    "ax.set_ylabel('Количество игр')\n",
    "ax.bar(x, y)\n",
    "plt.show()"
   ],
   "metadata": {
    "collapsed": false
   }
  },
  {
   "cell_type": "markdown",
   "source": [
    "**2.2.** (0.3 балла)\n",
    "\n",
    "Какие жанры были популярны в различные периоды времени?"
   ],
   "metadata": {
    "collapsed": false
   }
  },
  {
   "cell_type": "code",
   "execution_count": null,
   "outputs": [],
   "source": [
    "import matplotlib.pyplot as plt\n",
    "import pandas as pd\n",
    "\n",
    "data = pd.read_csv(r\"C:\\Users\\valen\\PycharmProjects\\Mirea-python\\pr5\\game_database\\games_database.csv\", sep=\";\")\n",
    "\n",
    "years = data['date_of_release'].unique()[1::]\n",
    "genres = data['genre'].unique()\n",
    "genre_popularity_by_years = {}\n",
    "\n",
    "for year in years:\n",
    "    genres_in_year = {}\n",
    "    for genre in genres:\n",
    "        genre_popularity = len(data[(data['date_of_release'] == year) & (data['genre'] == genre)])\n",
    "        if genre_popularity > 0:\n",
    "            genres_in_year[genre] = genre_popularity\n",
    "    genre_popularity_by_years[year] = genres_in_year\n",
    "\n",
    "for i in range(len(years)):\n",
    "    plt.figure(i)\n",
    "    year = years[i]\n",
    "    x = genre_popularity_by_years[year].keys()\n",
    "    y = genre_popularity_by_years[year].values()\n",
    "    patches, texts = plt.pie(y)\n",
    "    plt.title(f'Распределение по жанрам за {year} год.')\n",
    "    plt.legend(patches, x, loc=\"best\")\n",
    "plt.show();\n"
   ],
   "metadata": {
    "collapsed": false
   }
  },
  {
   "cell_type": "markdown",
   "source": [
    "## 3. Процедурная графика"
   ],
   "metadata": {
    "collapsed": false
   }
  },
  {
   "cell_type": "markdown",
   "source": [
    "**3.1.** (0.2 балла)\n",
    "\n",
    "Создайте генератор случайных спрайтов 5x5 пикселей. Используйте свойство симметрии. Вывод реализуйте с помощью функции imshow.\n",
    "\n",
    "Пример работы генератора показан ниже.\n"
   ],
   "metadata": {
    "collapsed": false
   }
  },
  {
   "cell_type": "code",
   "execution_count": null,
   "outputs": [],
   "source": [
    "\n",
    "import sprite_generator.SpriteGen as Sprites\n",
    "\n",
    "mask = [\n",
    "    [0, 0, 1, 0, 0],\n",
    "    [0, 0, 1, 0, 0],\n",
    "    [0, 1, 1, 1, 0],\n",
    "    [0, -1, 1, -1, 0],\n",
    "    [0, 0, 1, 0, 0]\n",
    "]\n",
    "\n",
    "image = Sprites.make(\n",
    "    mask,\n",
    "    color_variations=0.9,\n",
    "    brightness_noise=0.2,\n",
    "    edge_brightness=0.3,\n",
    "    saturation=0.6,\n",
    "    colored=False,\n",
    "    mirror=False\n",
    ")\n",
    "\n",
    "image.resize((160, 160))\n",
    "plt.imshow(image)\n",
    "plt.show()"
   ],
   "metadata": {
    "collapsed": false
   }
  },
  {
   "cell_type": "markdown",
   "source": [
    "**3.2.** (0.3 балла)\n",
    "\n",
    "Создайте генератор карт спрайтов. Пример работы этого генератора показан ниже.\n"
   ],
   "metadata": {
    "collapsed": false
   }
  },
  {
   "cell_type": "code",
   "execution_count": null,
   "outputs": [],
   "source": [
    "robot = [[0, 0, 0, 0],\n",
    "         [0, 1, 1, 1],\n",
    "         [0, 1, 2, 2],\n",
    "         [0, 0, 1, 2],\n",
    "         [0, 0, 0, 2],\n",
    "         [1, 1, 1, 2],\n",
    "         [0, 1, 1, 2],\n",
    "         [0, 0, 0, 2],\n",
    "         [0, 0, 0, 2],\n",
    "         [0, 1, 2, 2],\n",
    "         [1, 1, 0, 0]]\n",
    "\n",
    "im = Sprites.make_map(\n",
    "    robot,\n",
    "    color_variations=0.1,\n",
    "    brightness_noise=0.0,\n",
    "    edge_brightness=0.0,\n",
    "    saturation=0.5,\n",
    "    colored=False,\n",
    "    mirror=True,\n",
    "    n=100000000,\n",
    "    nr_columns=200)\n",
    "im.resize((im.size[0] * 2, im.size[1] * 2))\n",
    "plt.imshow(im)\n",
    "plt.show()"
   ],
   "metadata": {
    "collapsed": false
   }
  },
  {
   "cell_type": "markdown",
   "source": [
    "**3.3.** (0.5 балла)\n",
    "\n",
    "Реализуйте генератор случайных спрайтов NxM. Используйте различные свойства симметрии. Добавьте цвета.\n",
    "\n",
    "Пример работы этого генератора показан ниже."
   ],
   "metadata": {
    "collapsed": false
   }
  },
  {
   "cell_type": "code",
   "execution_count": null,
   "outputs": [],
   "source": [
    "space = [[0, 0, 0, 0, 0, 0],\n",
    "         [0, 0, 0, 0, 1, 1],\n",
    "         [0, 0, 0, 0, 1, -1],\n",
    "         [0, 0, 0, 1, 1, -1],\n",
    "         [0, 0, 0, 1, 1, -1],\n",
    "         [0, 0, 1, 1, 1, -1],\n",
    "         [0, 1, 1, 1, 2, 2],\n",
    "         [0, 1, 1, 1, 2, 2],\n",
    "         [0, 1, 1, 1, 2, 2],\n",
    "         [0, 1, 1, 1, 1, -1],\n",
    "         [0, 0, 0, 1, 1, 1],\n",
    "         [0, 0, 0, 0, 0, 0]]\n",
    "\n",
    "im = Sprites.make_map(\n",
    "    space,\n",
    "    color_variations=-1,\n",
    "    brightness_noise=0.0,\n",
    "    edge_brightness=0.0,\n",
    "    saturation=0.7,\n",
    "    colored=True,\n",
    "    mirror=True,\n",
    "    n=120,\n",
    "    nr_columns=20)\n",
    "im.resize((im.size[0] * 2, im.size[1] * 2))\n",
    "plt.imshow(im)\n",
    "plt.show()"
   ],
   "metadata": {
    "collapsed": false
   }
  }
 ],
 "metadata": {
  "kernelspec": {
   "display_name": "Python 3",
   "language": "python",
   "name": "python3"
  },
  "language_info": {
   "codemirror_mode": {
    "name": "ipython",
    "version": 2
   },
   "file_extension": ".py",
   "mimetype": "text/x-python",
   "name": "python",
   "nbconvert_exporter": "python",
   "pygments_lexer": "ipython2",
   "version": "2.7.6"
  }
 },
 "nbformat": 4,
 "nbformat_minor": 0
}
