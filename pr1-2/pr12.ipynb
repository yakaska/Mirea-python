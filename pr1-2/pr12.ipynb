{
 "cells": [
  {
   "cell_type": "markdown",
   "source": [
    "1. Малевич"
   ],
   "metadata": {
    "collapsed": false
   }
  },
  {
   "cell_type": "code",
   "execution_count": 1,
   "metadata": {
    "collapsed": true
   },
   "outputs": [],
   "source": [
    "import tkinter as tk\n",
    "\n",
    "\n",
    "def pyshader(func, w, h):\n",
    "    scr = bytearray((0, 0, 0) * w * h)\n",
    "    for y in range(h):\n",
    "        for x in range(w):\n",
    "            p = (w * y + x) * 3\n",
    "            scr[p:p + 3] = [max(min(int(c * 255), 255), 0)\n",
    "                            for c in func(x / w, y / h)]\n",
    "    return bytes('P6\\n%d %d\\n255\\n' % (w, h), 'ascii') + scr\n",
    "\n",
    "\n",
    "# Ваш код здесь:\n",
    "def func(x, y):\n",
    "    if 0.1 <= x <= 0.9 and 0.1 <= y <= 0.9:\n",
    "        return 0, 0, 0\n",
    "    return 1, 1, 1\n",
    "\n",
    "\n",
    "label = tk.Label()\n",
    "img = tk.PhotoImage(data=pyshader(func, 256, 256)).zoom(2, 2)\n",
    "label.pack()\n",
    "label.config(image=img)\n",
    "tk.mainloop()\n"
   ]
  },
  {
   "cell_type": "markdown",
   "source": [
    "2. Шар"
   ],
   "metadata": {
    "collapsed": false
   }
  },
  {
   "cell_type": "code",
   "execution_count": 2,
   "outputs": [],
   "source": [
    "import tkinter as tk\n",
    "\n",
    "\n",
    "def pyshader(func, w, h):\n",
    "    scr = bytearray((0, 0, 0) * w * h)\n",
    "    for y in range(h):\n",
    "        for x in range(w):\n",
    "            p = (w * y + x) * 3\n",
    "            scr[p:p + 3] = [max(min(int(c * 255), 255), 0)\n",
    "                            for c in func(x / w, y / h)]\n",
    "    return bytes('P6\\n%d %d\\n255\\n' % (w, h), 'ascii') + scr\n",
    "\n",
    "\n",
    "# Ваш код здесь:\n",
    "def func(x, y):\n",
    "    tcx = 0.5 - x\n",
    "    tcy = 0.5 - y\n",
    "    pct = (tcx * tcx + tcy * tcy) ** 0.5\n",
    "    color = clamp(0.5 - pct, 0.0, 1.0)\n",
    "    return color, color, 0\n",
    "\n",
    "\n",
    "def clamp(x, min_val, max_val):\n",
    "    return min(max(x, min_val), max_val)\n",
    "\n",
    "\n",
    "def lerp(a, b, x):\n",
    "    return (1 - x) * a + x * b\n",
    "\n",
    "\n",
    "label = tk.Label()\n",
    "img = tk.PhotoImage(data=pyshader(func, 256, 256)).zoom(2, 2)\n",
    "label.pack()\n",
    "label.config(image=img)\n",
    "tk.mainloop()\n"
   ],
   "metadata": {
    "collapsed": false
   }
  },
  {
   "cell_type": "markdown",
   "source": [
    "3. Пакман"
   ],
   "metadata": {
    "collapsed": false
   }
  },
  {
   "cell_type": "code",
   "execution_count": 3,
   "outputs": [],
   "source": [
    "import tkinter as tk\n",
    "\n",
    "\n",
    "def pyshader(func, w, h):\n",
    "    scr = bytearray((0, 0, 0) * w * h)\n",
    "    for y in range(h):\n",
    "        for x in range(w):\n",
    "            p = (w * y + x) * 3\n",
    "            scr[p:p + 3] = [max(min(int(c * 255), 255), 0)\n",
    "                            for c in func(x / w, y / h)]\n",
    "    return bytes('P6\\n%d %d\\n255\\n' % (w, h), 'ascii') + scr\n",
    "\n",
    "\n",
    "# Ваш код здесь:\n",
    "\n",
    "\n",
    "def func(x, y):\n",
    "    pcx = 0.5 - x\n",
    "    pcy = 0.5 - y\n",
    "    pct = (pcx ** 2 + pcy ** 2) ** 0.5\n",
    "\n",
    "    px = 0.55 - x\n",
    "    py = 0.32 - y\n",
    "    pct_e = (px ** 2 + py ** 2) ** 0.5\n",
    "\n",
    "    up_tr = pcy > 2 * pcx / 3 and x >= 0.5 and y >= 0.5\n",
    "    lw_tr = pcy < -2 * pcx / 3 and x >= 0.5 >= y\n",
    "\n",
    "    if x > 0.45 > y and 0.36 - pct_e > 0.3:\n",
    "        return 0, 0, 0\n",
    "    elif up_tr or lw_tr:\n",
    "        return 0, 0, 0\n",
    "    elif 0.5 - pct > 0.2 and 0.5 - pct > 0.2:\n",
    "        return 1, 1, 0\n",
    "    else:\n",
    "        return 0, 0, 0\n",
    "\n",
    "\n",
    "label = tk.Label()\n",
    "img = tk.PhotoImage(data=pyshader(func, 256, 256)).zoom(2, 2)\n",
    "label.pack()\n",
    "label.config(image=img)\n",
    "tk.mainloop()\n"
   ],
   "metadata": {
    "collapsed": false
   }
  },
  {
   "cell_type": "markdown",
   "source": [
    "4. Белый шум"
   ],
   "metadata": {
    "collapsed": false
   }
  },
  {
   "cell_type": "code",
   "execution_count": 4,
   "outputs": [],
   "source": [
    "import tkinter as tk\n",
    "from math import floor, sin\n",
    "\n",
    "\n",
    "def pyshader(func, w, h):\n",
    "    scr = bytearray((0, 0, 0) * w * h)\n",
    "    for y in range(h):\n",
    "        for x in range(w):\n",
    "            p = (w * y + x) * 3\n",
    "            scr[p:p + 3] = [max(min(int(c * 255), 255), 0)\n",
    "                            for c in func(x / w, y / h)]\n",
    "    return bytes('P6\\n%d %d\\n255\\n' % (w, h), 'ascii') + scr\n",
    "\n",
    "\n",
    "# Ваш код здесь:\n",
    "def func(x, y):\n",
    "    color = noise(x, y)\n",
    "    return color, color, color\n",
    "\n",
    "\n",
    "def noise(x, y):\n",
    "    return fract(sin(x * 12.9898 + y * 78.233) * 43758.5453123)\n",
    "\n",
    "\n",
    "def fract(x):\n",
    "    return x - floor(x)\n",
    "\n",
    "\n",
    "label = tk.Label()\n",
    "img = tk.PhotoImage(data=pyshader(func, 256, 256)).zoom(2, 2)\n",
    "label.pack()\n",
    "label.config(image=img)\n",
    "tk.mainloop()\n"
   ],
   "metadata": {
    "collapsed": false
   }
  },
  {
   "cell_type": "markdown",
   "source": [
    "5. Интерполированный белый шум"
   ],
   "metadata": {
    "collapsed": false
   }
  },
  {
   "cell_type": "code",
   "execution_count": 5,
   "outputs": [],
   "source": [
    "import tkinter as tk\n",
    "from math import floor, sin\n",
    "\n",
    "\n",
    "def pyshader(func, w, h):\n",
    "    scr = bytearray((0, 0, 0) * w * h)\n",
    "    for y in range(h):\n",
    "        for x in range(w):\n",
    "            p = (w * y + x) * 3\n",
    "            scr[p:p + 3] = [max(min(int(c * 255), 255), 0)\n",
    "                            for c in func(x / w, y / h)]\n",
    "    return bytes('P6\\n%d %d\\n255\\n' % (w, h), 'ascii') + scr\n",
    "\n",
    "\n",
    "# Ваш код здесь:\n",
    "def func(x, y):\n",
    "    sx = x * 10\n",
    "    sy = y * 10\n",
    "    color = val_noise(sx, sy)\n",
    "\n",
    "    return color, color, color\n",
    "\n",
    "\n",
    "def noise(x, y):\n",
    "    return fract(sin(x * 12.9898 + y * 78.233) * 43758.5453123)\n",
    "\n",
    "\n",
    "def val_noise(x, y):\n",
    "    ix = floor(x)\n",
    "    iy = floor(y)\n",
    "\n",
    "    fx = fract(x)\n",
    "    fy = fract(y)\n",
    "\n",
    "    ux = fx * fx * (3.0 - 2.0 * fx)\n",
    "    uy = fy * fy * (3.0 - 2.0 * fy)\n",
    "\n",
    "    return lerp(\n",
    "        lerp(noise(ix + 0.0, iy + 0.0), noise(ix + 1.0, iy + 0.0), ux),\n",
    "        lerp(noise(ix + 0.0, iy + 1.0), noise(ix + 1.0, iy + 1.0), ux),\n",
    "        uy\n",
    "    )\n",
    "\n",
    "\n",
    "def lerp(a, b, x):\n",
    "    return (1 - x) * a + x * b\n",
    "\n",
    "\n",
    "def fract(x):\n",
    "    return x - floor(x)\n",
    "\n",
    "\n",
    "label = tk.Label()\n",
    "img = tk.PhotoImage(data=pyshader(func, 256, 256)).zoom(2, 2)\n",
    "label.pack()\n",
    "label.config(image=img)\n",
    "tk.mainloop()\n"
   ],
   "metadata": {
    "collapsed": false
   }
  },
  {
   "cell_type": "markdown",
   "source": [
    "6. Фрактальный шум"
   ],
   "metadata": {
    "collapsed": false
   }
  },
  {
   "cell_type": "code",
   "execution_count": 6,
   "outputs": [],
   "source": [
    "import tkinter as tk\n",
    "from math import floor, sin\n",
    "\n",
    "\n",
    "def pyshader(func, w, h):\n",
    "    scr = bytearray((0, 0, 0) * w * h)\n",
    "    for y in range(h):\n",
    "        for x in range(w):\n",
    "            p = (w * y + x) * 3\n",
    "            scr[p:p + 3] = [max(min(int(c * 255), 255), 0)\n",
    "                            for c in func(x / w, y / h)]\n",
    "    return bytes('P6\\n%d %d\\n255\\n' % (w, h), 'ascii') + scr\n",
    "\n",
    "\n",
    "# Ваш код здесь:\n",
    "def func(x, y):\n",
    "    sx = x * 10\n",
    "    sy = y * 10\n",
    "\n",
    "    color = fractal_noise(sx, sy)\n",
    "\n",
    "    return 0.53, color, 0.92\n",
    "\n",
    "\n",
    "def fractal_noise(x, y):\n",
    "    value = 0.0\n",
    "    amp = 0.5\n",
    "    freq = 0.0\n",
    "\n",
    "    for i in range(0, 8 + 1):\n",
    "        value += amp * val_noise(x, y)\n",
    "        x *= 2.0\n",
    "        y *= 2.0\n",
    "        amp *= 0.5\n",
    "    return value\n",
    "\n",
    "\n",
    "def noise(x, y):\n",
    "    return fract(sin(x * 12.9898 + y * 78.233) * 43758.5453123)\n",
    "\n",
    "\n",
    "def val_noise(x, y):\n",
    "    ix = floor(x)\n",
    "    iy = floor(y)\n",
    "\n",
    "    fx = fract(x)\n",
    "    fy = fract(y)\n",
    "\n",
    "    ux = fx * fx * (3.0 - 2.0 * fx)\n",
    "    uy = fy * fy * (3.0 - 2.0 * fy)\n",
    "\n",
    "    return lerp(\n",
    "        lerp(noise(ix + 0.0, iy + 0.0), noise(ix + 1.0, iy + 0.0), ux),\n",
    "        lerp(noise(ix + 0.0, iy + 1.0), noise(ix + 1.0, iy + 1.0), ux),\n",
    "        uy\n",
    "    )\n",
    "\n",
    "\n",
    "def lerp(a, b, x):\n",
    "    return (1 - x) * a + x * b\n",
    "\n",
    "\n",
    "def fract(x):\n",
    "    return x - floor(x)\n",
    "\n",
    "\n",
    "label = tk.Label()\n",
    "img = tk.PhotoImage(data=pyshader(func, 256, 256)).zoom(2, 2)\n",
    "label.pack()\n",
    "label.config(image=img)\n",
    "tk.mainloop()"
   ],
   "metadata": {
    "collapsed": false
   }
  },
  {
   "cell_type": "markdown",
   "source": [],
   "metadata": {
    "collapsed": false
   }
  }
 ],
 "metadata": {
  "kernelspec": {
   "display_name": "Python 3",
   "language": "python",
   "name": "python3"
  },
  "language_info": {
   "codemirror_mode": {
    "name": "ipython",
    "version": 2
   },
   "file_extension": ".py",
   "mimetype": "text/x-python",
   "name": "python",
   "nbconvert_exporter": "python",
   "pygments_lexer": "ipython2",
   "version": "2.7.6"
  }
 },
 "nbformat": 4,
 "nbformat_minor": 0
}
